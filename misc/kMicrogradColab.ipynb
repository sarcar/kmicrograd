{
  "nbformat": 4,
  "nbformat_minor": 0,
  "metadata": {
    "colab": {
      "provenance": [],
      "authorship_tag": "ABX9TyOJ8ydVFKJbBQglZ48CkKNa",
      "include_colab_link": true
    },
    "kernelspec": {
      "name": "python3",
      "display_name": "Python 3"
    },
    "language_info": {
      "name": "python"
    }
  },
  "cells": [
    {
      "cell_type": "markdown",
      "metadata": {
        "id": "view-in-github",
        "colab_type": "text"
      },
      "source": [
        "<a href=\"https://colab.research.google.com/github/sarcar/kmicrograd/blob/main/kMicrogradColab.ipynb\" target=\"_parent\"><img src=\"https://colab.research.google.com/assets/colab-badge.svg\" alt=\"Open In Colab\"/></a>"
      ]
    },
    {
      "cell_type": "code",
      "execution_count": 1,
      "metadata": {
        "id": "P9_QR_1KfYvA"
      },
      "outputs": [],
      "source": [
        "\n",
        "import math\n",
        "import numpy as np\n",
        "import matplotlib.pyplot as plt\n",
        "%matplotlib inline"
      ]
    },
    {
      "cell_type": "code",
      "source": [
        "f = lambda x: 3*x**2 - 2*x + 5\n",
        "print(f(3.0))"
      ],
      "metadata": {
        "colab": {
          "base_uri": "https://localhost:8080/"
        },
        "id": "s_m7Rdm8fxhr",
        "outputId": "77bb795d-b73c-499d-dc53-ebf50bc5b166"
      },
      "execution_count": 2,
      "outputs": [
        {
          "output_type": "stream",
          "name": "stdout",
          "text": [
            "26.0\n"
          ]
        }
      ]
    },
    {
      "cell_type": "code",
      "source": [
        "xs = np.arange(-4, 5, 0.25)\n",
        "ys = f(xs)\n",
        "plt.plot(xs, ys)"
      ],
      "metadata": {
        "colab": {
          "base_uri": "https://localhost:8080/",
          "height": 447
        },
        "id": "EeOWOHoegCeu",
        "outputId": "51d75b92-5ef0-44d4-efd3-6e1416bf7244"
      },
      "execution_count": 3,
      "outputs": [
        {
          "output_type": "execute_result",
          "data": {
            "text/plain": [
              "[<matplotlib.lines.Line2D at 0x7f72e49dbe50>]"
            ]
          },
          "metadata": {},
          "execution_count": 3
        },
        {
          "output_type": "display_data",
          "data": {
            "text/plain": [
              "<Figure size 640x480 with 1 Axes>"
            ],
            "image/png": "[encoded data removed]"
          },
          "metadata": {}
        }
      ]
    },
    {
      "cell_type": "code",
      "source": [
        "# Let us find the slope at x = 3.4\n",
        "h = 0.0000000000001\n",
        "x = 1/3.0\n",
        "(f(x + h) - f(x))/h"
      ],
      "metadata": {
        "colab": {
          "base_uri": "https://localhost:8080/"
        },
        "id": "t9kBiHZ3h6mT",
        "outputId": "f0f916d2-b0f2-4008-d7ba-7a24fdf1a6d5"
      },
      "execution_count": 4,
      "outputs": [
        {
          "output_type": "execute_result",
          "data": {
            "text/plain": [
              "0.0"
            ]
          },
          "metadata": {},
          "execution_count": 4
        }
      ]
    },
    {
      "cell_type": "code",
      "source": [
        "a = 3.0\n",
        "b = -2.0\n",
        "c = 4.0\n",
        "h = 0.0001\n",
        "\n",
        "y1 = a * b + c\n",
        "c += h\n",
        "y2 = a * b + c\n",
        "slope = (y2 - y1) / h\n",
        "print(f'Slope = {slope}')"
      ],
      "metadata": {
        "colab": {
          "base_uri": "https://localhost:8080/"
        },
        "id": "vmw0k8p-lpuZ",
        "outputId": "eada4173-c63b-4dbd-d6e1-f8f360abe069"
      },
      "execution_count": 5,
      "outputs": [
        {
          "output_type": "stream",
          "name": "stdout",
          "text": [
            "Slope = 0.9999999999976694\n"
          ]
        }
      ]
    },
    {
      "cell_type": "code",
      "source": [
        "from graphviz import Digraph\n",
        "\n",
        "def trace(root):\n",
        "  # builds a set of all nodes and edges in a graph\n",
        "  nodes, edges = set(), set()\n",
        "  def build(v):\n",
        "    if v not in nodes:\n",
        "      nodes.add(v)\n",
        "      for child in v._prev:\n",
        "        edges.add((child, v))\n",
        "        build(child)\n",
        "  build(root)\n",
        "  return nodes, edges\n",
        "\n",
        "def draw_dot(root):\n",
        "  dot = Digraph(format='svg', graph_attr={'rankdir': 'LR'}) # LR = left to right\n",
        "  \n",
        "  nodes, edges = trace(root)\n",
        "  for n in nodes:\n",
        "    uid = str(id(n))\n",
        "    # for any value in the graph, create a rectangular ('record') node for it\n",
        "    dot.node(name = uid, label = \"{ %s | data %.4f | grad %.4f }\" % (n.label, n.data, n.grad), shape='record')\n",
        "    if n._op:\n",
        "      # if this value is a result of some operation, create an op node for it\n",
        "      dot.node(name = uid + n._op, label = n._op)\n",
        "      # and connect this node to it\n",
        "      dot.edge(uid + n._op, uid)\n",
        "\n",
        "  for n1, n2 in edges:\n",
        "    # connect n1 to the op node of n2\n",
        "    dot.edge(str(id(n1)), str(id(n2)) + n2._op)\n",
        "\n",
        "  return dot"
      ],
      "metadata": {
        "id": "UXKmxUHeKLxO"
      },
      "execution_count": 6,
      "outputs": []
    },
    {
      "cell_type": "code",
      "source": [
        "class Value:\n",
        "    \n",
        "    def __init__(self, data, children=(), op='', label=''):\n",
        "        # Only supports int or float data\n",
        "        assert(isinstance(data, int) or isinstance(data, float))\n",
        "\n",
        "        self.data = data\n",
        "        self.grad = 0.0\n",
        "        self._prev = set(children)\n",
        "        self._op = op\n",
        "        self.label = label\n",
        "        self._backward = lambda : None\n",
        "\n",
        "    def details(self):\n",
        "        s  = f\"Label={self.label},Op={self._op},data={self.data:.5f},grad={self.grad:.5f}\"\n",
        "        return s\n",
        "\n",
        "    def __repr__(self):\n",
        "        if self.label:\n",
        "            return f\"Value({self.label} => {self.data:.5f})\"\n",
        "        else:\n",
        "            return f\"Value({self.data:.5f})\"\n",
        "        \n",
        "    def __add__(self, other):\n",
        "        other = other if isinstance(other, Value) else Value(other)\n",
        "        out = Value(self.data + other.data, (self, other), '+')\n",
        "\n",
        "        def _backward():\n",
        "            self.grad  += 1 * out.grad\n",
        "            other.grad += 1 * out.grad\n",
        "            # print(f\"{self.details()}  | {other.details()}\")\n",
        "        \n",
        "        out._backward = _backward\n",
        "        return out\n",
        "    \n",
        "    def __mul__(self, other):\n",
        "        other = other if isinstance(other, Value) else Value(other)\n",
        "        out = Value(self.data * other.data, (self, other), '*')\n",
        "\n",
        "        def _backward():\n",
        "            self.grad  += other.data * out.grad\n",
        "            other.grad += self.data * out.grad\n",
        "        out._backward = _backward\n",
        "        return out\n",
        "\n",
        "    def __truediv__(self, other):\n",
        "        other = other if isinstance(other, Value) else Value(other)\n",
        "        other_inverse = other.__pow__(-1)\n",
        "        return self * other_inverse\n",
        "   \n",
        "    def __neg__(self):\n",
        "        return self * -1\n",
        "\n",
        "    def __sub__(self, other):\n",
        "        other = other if isinstance(other, Value) else Value(other)\n",
        "        return self + (-other) \n",
        "\n",
        "    def __iadd__(self, other): # in-place addition\n",
        "        if isinstance(other, Value):\n",
        "            self.data += other.data\n",
        "        else:\n",
        "            self.data += other\n",
        "        return self\n",
        "\n",
        "    def __isub__(self, other): # in-place subtraction\n",
        "        if isinstance(other, Value):\n",
        "            self.data -= other.data\n",
        "        else:\n",
        "            self.data -= other\n",
        "        return self\n",
        "        \n",
        "    def tanh(self):\n",
        "        e2x = math.exp(2*self.data)\n",
        "        t = (e2x - 1) / (e2x + 1)\n",
        "        out = Value(t, (self,), 'tanh')\n",
        "        \n",
        "        def _backward():\n",
        "            self.grad += (1 - (out.data ** 2)) * out.grad # this \"out.grad\" is computed not when tanh is called but when _backward() is called\n",
        "            \n",
        "        out._backward = _backward  # The function pointer, not the function's return value\n",
        "        return out\n",
        "\n",
        "    def exp(self): # called as self.exp(); which will give us e^d\n",
        "        out = Value(math.exp(self.data),(self,),'exp')\n",
        "\n",
        "        def _backward():\n",
        "            self.grad += math.exp(self.data) * out.grad # this \"out.grad\" is computed not when exp is called but when _backward() is called\n",
        "\n",
        "        out._backward = _backward\n",
        "        return out\n",
        "\n",
        "    def __pow__(self, n): # called as self ^ n, division is a special case with n = -1\n",
        "        out = Value(self.data ** n, (self,),'**')\n",
        "        def _backward():\n",
        "            self.grad += n * (self.data ** (n - 1)) * out.grad # this \"out.grad\" is computed not when pow is called but when _backward() is called\n",
        "        out._backward = _backward\n",
        "        return out\n",
        "\n",
        "\n",
        "    def __radd__(self, other):\n",
        "        return Value(other) + self\n",
        "\n",
        "    def __rmul__(self, other):\n",
        "        return Value(other) * self\n",
        "\n",
        "\n",
        "    def backward(self):\n",
        " \n",
        "        # Topological sort\n",
        "        topo = []\n",
        "        visited = set()\n",
        "        \n",
        "        def build_topo(v):\n",
        "            if v not in visited:\n",
        "                visited.add(v)\n",
        "                for child in v._prev:\n",
        "                    build_topo(child)\n",
        "                topo.append(v)\n",
        "        \n",
        "        build_topo(self)\n",
        "        rev_topo = reversed(topo)\n",
        "                \n",
        "        for node in rev_topo:\n",
        "            # print(f\"Clearing grad of node : {node.details()}\")\n",
        "            node.grad = 0\n",
        "        \n",
        "        self.grad = 1\n",
        "        for node in reversed(topo):\n",
        "            node._backward()\n",
        "\n",
        "\n",
        "x1 = Value(2.0, label='x1')\n",
        "x2 = Value(0.0, label='x2')\n",
        "w1 = Value(-3.0, label='w1')\n",
        "w2 = Value(1.0, label='w2')\n",
        "b = Value(6.8813735870195432, label='b')\n",
        "x1w1 = x1 * w1; x1w1.label='x1*w1'\n",
        "x2w2 = x2 * w2; x2w2.label='x2*w2'\n",
        "x1w1x2w2 = x1w1 + x2w2; x1w1x2w2.label='x1w1x2w2'\n",
        "n = x1w1x2w2 + b; n.label = 'N'\n",
        "\n",
        "# ---\n",
        "# o = n.tanh(); o.label = 'o'\n",
        "# ---\n",
        "\n",
        "\"\"\"\n",
        "o.grad = 1.0\n",
        "n._backward()\n",
        "b._backward()\n",
        "x1w1x2w2._backward()\n",
        "x1w1._backward()\n",
        "x2w2._backward()\n",
        "x1._backward()\n",
        "x2._backward()\n",
        "w1._backward()\n",
        "w2._backward()\n",
        "# ---\n",
        "\"\"\"\n",
        "\n",
        "# ----\n",
        "e2n = (n * 2).exp(); e2n.label = 'e2n'\n",
        "e2n_a = e2n - 1; e2n_a.label = 'e2n_a'\n",
        "e2n_b = e2n + 1; e2n_b.label = 'e2n_b'\n",
        "o = e2n_a / e2n_b; o.label = 'o'\n",
        "# ----\n",
        "\n",
        "o.backward()\n",
        "draw_dot(o)\n",
        "\n",
        "\n"
      ],
      "metadata": {
        "colab": {
          "base_uri": "https://localhost:8080/",
          "height": 360
        },
        "id": "8H_rlfwYE4ig",
        "outputId": "824768c2-efba-4048-8c64-6013f97f4565"
      },
      "execution_count": 7,
      "outputs": [
        {
          "output_type": "execute_result",
          "data": {
            "image/svg+xml": "<?xml version=\"1.0\" encoding=\"UTF-8\" standalone=\"no\"?>\n<!DOCTYPE svg PUBLIC \"-//W3C//DTD SVG 1.1//EN\"\n \"http://www.w3.org/Graphics/SVG/1.1/DTD/svg11.dtd\">\n<!-- Generated by graphviz version 2.43.0 (0)\n -->\n<!-- Title: %3 Pages: 1 -->\n<svg width=\"2993pt\" height=\"239pt\"\n viewBox=\"0.00 0.00 2993.00 239.00\" xmlns=\"http://www.w3.org/2000/svg\" xmlns:xlink=\"http://www.w3.org/1999/xlink\">\n<g id=\"graph0\" class=\"graph\" transform=\"scale(1 1) rotate(0) translate(4 235)\">\n<title>%3</title>\n<polygon fill=\"white\" stroke=\"transparent\" points=\"-4,4 -4,-235 2989,-235 2989,4 -4,4\"/>\n<!-- 140131437144112 -->\n<g id=\"node1\" class=\"node\">\n<title>140131437144112</title>\n<polygon fill=\"none\" stroke=\"black\" points=\"4,-194.5 4,-230.5 196,-230.5 196,-194.5 4,-194.5\"/>\n<text text-anchor=\"middle\" x=\"19\" y=\"-208.8\" font-family=\"Times,serif\" font-size=\"14.00\">x2</text>\n<polyline fill=\"none\" stroke=\"black\" points=\"34,-194.5 34,-230.5 \"/>\n<text text-anchor=\"middle\" x=\"74\" y=\"-208.8\" font-family=\"Times,serif\" font-size=\"14.00\">data 0.0000</text>\n<polyline fill=\"none\" stroke=\"black\" points=\"114,-194.5 114,-230.5 \"/>\n<text text-anchor=\"middle\" x=\"155\" y=\"-208.8\" font-family=\"Times,serif\" font-size=\"14.00\">grad 0.5000</text>\n</g>\n<!-- 140131436397088* -->\n<g id=\"node13\" class=\"node\">\n<title>140131436397088*</title>\n<ellipse fill=\"none\" stroke=\"black\" cx=\"263\" cy=\"-157.5\" rx=\"27\" ry=\"18\"/>\n<text text-anchor=\"middle\" x=\"263\" y=\"-153.8\" font-family=\"Times,serif\" font-size=\"14.00\">*</text>\n</g>\n<!-- 140131437144112&#45;&gt;140131436397088* -->\n<g id=\"edge30\" class=\"edge\">\n<title>140131437144112&#45;&gt;140131436397088*</title>\n<path fill=\"none\" stroke=\"black\" d=\"M172.53,-194.44C181.84,-191.67 191.2,-188.67 200,-185.5 210.53,-181.71 221.75,-176.9 231.72,-172.33\"/>\n<polygon fill=\"black\" stroke=\"black\" points=\"233.25,-175.48 240.82,-168.07 230.28,-169.14 233.25,-175.48\"/>\n</g>\n<!-- 140131437144160 -->\n<g id=\"node2\" class=\"node\">\n<title>140131437144160</title>\n<polygon fill=\"none\" stroke=\"black\" points=\"0,-84.5 0,-120.5 200,-120.5 200,-84.5 0,-84.5\"/>\n<text text-anchor=\"middle\" x=\"16.5\" y=\"-98.8\" font-family=\"Times,serif\" font-size=\"14.00\">w1</text>\n<polyline fill=\"none\" stroke=\"black\" points=\"33,-84.5 33,-120.5 \"/>\n<text text-anchor=\"middle\" x=\"75.5\" y=\"-98.8\" font-family=\"Times,serif\" font-size=\"14.00\">data &#45;3.0000</text>\n<polyline fill=\"none\" stroke=\"black\" points=\"118,-84.5 118,-120.5 \"/>\n<text text-anchor=\"middle\" x=\"159\" y=\"-98.8\" font-family=\"Times,serif\" font-size=\"14.00\">grad 1.0000</text>\n</g>\n<!-- 140131436396896* -->\n<g id=\"node8\" class=\"node\">\n<title>140131436396896*</title>\n<ellipse fill=\"none\" stroke=\"black\" cx=\"263\" cy=\"-102.5\" rx=\"27\" ry=\"18\"/>\n<text text-anchor=\"middle\" x=\"263\" y=\"-98.8\" font-family=\"Times,serif\" font-size=\"14.00\">*</text>\n</g>\n<!-- 140131437144160&#45;&gt;140131436396896* -->\n<g id=\"edge20\" class=\"edge\">\n<title>140131437144160&#45;&gt;140131436396896*</title>\n<path fill=\"none\" stroke=\"black\" d=\"M200.21,-102.5C209.2,-102.5 217.86,-102.5 225.7,-102.5\"/>\n<polygon fill=\"black\" stroke=\"black\" points=\"225.85,-106 235.85,-102.5 225.85,-99 225.85,-106\"/>\n</g>\n<!-- 140131437144208 -->\n<g id=\"node3\" class=\"node\">\n<title>140131437144208</title>\n<polygon fill=\"none\" stroke=\"black\" points=\"701.5,-56.5 701.5,-92.5 886.5,-92.5 886.5,-56.5 701.5,-56.5\"/>\n<text text-anchor=\"middle\" x=\"713\" y=\"-70.8\" font-family=\"Times,serif\" font-size=\"14.00\">b</text>\n<polyline fill=\"none\" stroke=\"black\" points=\"724.5,-56.5 724.5,-92.5 \"/>\n<text text-anchor=\"middle\" x=\"764.5\" y=\"-70.8\" font-family=\"Times,serif\" font-size=\"14.00\">data 6.8814</text>\n<polyline fill=\"none\" stroke=\"black\" points=\"804.5,-56.5 804.5,-92.5 \"/>\n<text text-anchor=\"middle\" x=\"845.5\" y=\"-70.8\" font-family=\"Times,serif\" font-size=\"14.00\">grad 0.5000</text>\n</g>\n<!-- 140131436397472+ -->\n<g id=\"node17\" class=\"node\">\n<title>140131436397472+</title>\n<ellipse fill=\"none\" stroke=\"black\" cx=\"979\" cy=\"-101.5\" rx=\"27\" ry=\"18\"/>\n<text text-anchor=\"middle\" x=\"979\" y=\"-97.8\" font-family=\"Times,serif\" font-size=\"14.00\">+</text>\n</g>\n<!-- 140131437144208&#45;&gt;140131436397472+ -->\n<g id=\"edge16\" class=\"edge\">\n<title>140131437144208&#45;&gt;140131436397472+</title>\n<path fill=\"none\" stroke=\"black\" d=\"M886.77,-88.04C906.52,-90.95 926.26,-93.87 942.29,-96.23\"/>\n<polygon fill=\"black\" stroke=\"black\" points=\"941.86,-99.71 952.26,-97.7 942.88,-92.78 941.86,-99.71\"/>\n</g>\n<!-- 140131436398768 -->\n<g id=\"node4\" class=\"node\">\n<title>140131436398768</title>\n<polygon fill=\"none\" stroke=\"black\" points=\"2492,-31.5 2492,-67.5 2674,-67.5 2674,-31.5 2492,-31.5\"/>\n<text text-anchor=\"middle\" x=\"2502\" y=\"-45.8\" font-family=\"Times,serif\" font-size=\"14.00\"> </text>\n<polyline fill=\"none\" stroke=\"black\" points=\"2512,-31.5 2512,-67.5 \"/>\n<text text-anchor=\"middle\" x=\"2552\" y=\"-45.8\" font-family=\"Times,serif\" font-size=\"14.00\">data 0.1464</text>\n<polyline fill=\"none\" stroke=\"black\" points=\"2592,-31.5 2592,-67.5 \"/>\n<text text-anchor=\"middle\" x=\"2633\" y=\"-45.8\" font-family=\"Times,serif\" font-size=\"14.00\">grad 4.8284</text>\n</g>\n<!-- 140131436398960* -->\n<g id=\"node10\" class=\"node\">\n<title>140131436398960*</title>\n<ellipse fill=\"none\" stroke=\"black\" cx=\"2737\" cy=\"-72.5\" rx=\"27\" ry=\"18\"/>\n<text text-anchor=\"middle\" x=\"2737\" y=\"-68.8\" font-family=\"Times,serif\" font-size=\"14.00\">*</text>\n</g>\n<!-- 140131436398768&#45;&gt;140131436398960* -->\n<g id=\"edge13\" class=\"edge\">\n<title>140131436398768&#45;&gt;140131436398960*</title>\n<path fill=\"none\" stroke=\"black\" d=\"M2674.18,-63.15C2683.42,-64.54 2692.38,-65.9 2700.47,-67.12\"/>\n<polygon fill=\"black\" stroke=\"black\" points=\"2700.15,-70.61 2710.56,-68.65 2701.19,-63.69 2700.15,-70.61\"/>\n</g>\n<!-- 140131436398768** -->\n<g id=\"node5\" class=\"node\">\n<title>140131436398768**</title>\n<ellipse fill=\"none\" stroke=\"black\" cx=\"2350.5\" cy=\"-45.5\" rx=\"27\" ry=\"18\"/>\n<text text-anchor=\"middle\" x=\"2350.5\" y=\"-41.8\" font-family=\"Times,serif\" font-size=\"14.00\">**</text>\n</g>\n<!-- 140131436398768**&#45;&gt;140131436398768 -->\n<g id=\"edge1\" class=\"edge\">\n<title>140131436398768**&#45;&gt;140131436398768</title>\n<path fill=\"none\" stroke=\"black\" d=\"M2377.49,-45.95C2402.95,-46.39 2443.36,-47.09 2481.57,-47.76\"/>\n<polygon fill=\"black\" stroke=\"black\" points=\"2481.69,-51.26 2491.75,-47.93 2481.81,-44.26 2481.69,-51.26\"/>\n</g>\n<!-- 140131437144400 -->\n<g id=\"node6\" class=\"node\">\n<title>140131437144400</title>\n<polygon fill=\"none\" stroke=\"black\" points=\"2,-29.5 2,-65.5 198,-65.5 198,-29.5 2,-29.5\"/>\n<text text-anchor=\"middle\" x=\"17\" y=\"-43.8\" font-family=\"Times,serif\" font-size=\"14.00\">x1</text>\n<polyline fill=\"none\" stroke=\"black\" points=\"32,-29.5 32,-65.5 \"/>\n<text text-anchor=\"middle\" x=\"72\" y=\"-43.8\" font-family=\"Times,serif\" font-size=\"14.00\">data 2.0000</text>\n<polyline fill=\"none\" stroke=\"black\" points=\"112,-29.5 112,-65.5 \"/>\n<text text-anchor=\"middle\" x=\"155\" y=\"-43.8\" font-family=\"Times,serif\" font-size=\"14.00\">grad &#45;1.5000</text>\n</g>\n<!-- 140131437144400&#45;&gt;140131436396896* -->\n<g id=\"edge23\" class=\"edge\">\n<title>140131437144400&#45;&gt;140131436396896*</title>\n<path fill=\"none\" stroke=\"black\" d=\"M169.28,-65.5C179.65,-68.61 190.16,-71.98 200,-75.5 210.28,-79.17 221.28,-83.74 231.11,-88.07\"/>\n<polygon fill=\"black\" stroke=\"black\" points=\"229.93,-91.37 240.48,-92.27 232.79,-84.99 229.93,-91.37\"/>\n</g>\n<!-- 140131436396896 -->\n<g id=\"node7\" class=\"node\">\n<title>140131436396896</title>\n<polygon fill=\"none\" stroke=\"black\" points=\"326,-84.5 326,-120.5 546,-120.5 546,-84.5 326,-84.5\"/>\n<text text-anchor=\"middle\" x=\"352.5\" y=\"-98.8\" font-family=\"Times,serif\" font-size=\"14.00\">x1*w1</text>\n<polyline fill=\"none\" stroke=\"black\" points=\"379,-84.5 379,-120.5 \"/>\n<text text-anchor=\"middle\" x=\"421.5\" y=\"-98.8\" font-family=\"Times,serif\" font-size=\"14.00\">data &#45;6.0000</text>\n<polyline fill=\"none\" stroke=\"black\" points=\"464,-84.5 464,-120.5 \"/>\n<text text-anchor=\"middle\" x=\"505\" y=\"-98.8\" font-family=\"Times,serif\" font-size=\"14.00\">grad 0.5000</text>\n</g>\n<!-- 140131436397280+ -->\n<g id=\"node15\" class=\"node\">\n<title>140131436397280+</title>\n<ellipse fill=\"none\" stroke=\"black\" cx=\"609\" cy=\"-129.5\" rx=\"27\" ry=\"18\"/>\n<text text-anchor=\"middle\" x=\"609\" y=\"-125.8\" font-family=\"Times,serif\" font-size=\"14.00\">+</text>\n</g>\n<!-- 140131436396896&#45;&gt;140131436397280+ -->\n<g id=\"edge27\" class=\"edge\">\n<title>140131436396896&#45;&gt;140131436397280+</title>\n<path fill=\"none\" stroke=\"black\" d=\"M546.27,-119.75C555.64,-121.23 564.6,-122.65 572.65,-123.92\"/>\n<polygon fill=\"black\" stroke=\"black\" points=\"572.23,-127.4 582.65,-125.5 573.32,-120.48 572.23,-127.4\"/>\n</g>\n<!-- 140131436396896*&#45;&gt;140131436396896 -->\n<g id=\"edge2\" class=\"edge\">\n<title>140131436396896*&#45;&gt;140131436396896</title>\n<path fill=\"none\" stroke=\"black\" d=\"M290.34,-102.5C297.77,-102.5 306.37,-102.5 315.6,-102.5\"/>\n<polygon fill=\"black\" stroke=\"black\" points=\"315.84,-106 325.84,-102.5 315.84,-99 315.84,-106\"/>\n</g>\n<!-- 140131436398960 -->\n<g id=\"node9\" class=\"node\">\n<title>140131436398960</title>\n<polygon fill=\"none\" stroke=\"black\" points=\"2800,-54.5 2800,-90.5 2985,-90.5 2985,-54.5 2800,-54.5\"/>\n<text text-anchor=\"middle\" x=\"2811.5\" y=\"-68.8\" font-family=\"Times,serif\" font-size=\"14.00\">o</text>\n<polyline fill=\"none\" stroke=\"black\" points=\"2823,-54.5 2823,-90.5 \"/>\n<text text-anchor=\"middle\" x=\"2863\" y=\"-68.8\" font-family=\"Times,serif\" font-size=\"14.00\">data 0.7071</text>\n<polyline fill=\"none\" stroke=\"black\" points=\"2903,-54.5 2903,-90.5 \"/>\n<text text-anchor=\"middle\" x=\"2944\" y=\"-68.8\" font-family=\"Times,serif\" font-size=\"14.00\">grad 1.0000</text>\n</g>\n<!-- 140131436398960*&#45;&gt;140131436398960 -->\n<g id=\"edge3\" class=\"edge\">\n<title>140131436398960*&#45;&gt;140131436398960</title>\n<path fill=\"none\" stroke=\"black\" d=\"M2764.04,-72.5C2771.58,-72.5 2780.3,-72.5 2789.57,-72.5\"/>\n<polygon fill=\"black\" stroke=\"black\" points=\"2789.81,-76 2799.81,-72.5 2789.81,-69 2789.81,-76\"/>\n</g>\n<!-- 140131437144448 -->\n<g id=\"node11\" class=\"node\">\n<title>140131437144448</title>\n<polygon fill=\"none\" stroke=\"black\" points=\"2.5,-139.5 2.5,-175.5 197.5,-175.5 197.5,-139.5 2.5,-139.5\"/>\n<text text-anchor=\"middle\" x=\"19\" y=\"-153.8\" font-family=\"Times,serif\" font-size=\"14.00\">w2</text>\n<polyline fill=\"none\" stroke=\"black\" points=\"35.5,-139.5 35.5,-175.5 \"/>\n<text text-anchor=\"middle\" x=\"75.5\" y=\"-153.8\" font-family=\"Times,serif\" font-size=\"14.00\">data 1.0000</text>\n<polyline fill=\"none\" stroke=\"black\" points=\"115.5,-139.5 115.5,-175.5 \"/>\n<text text-anchor=\"middle\" x=\"156.5\" y=\"-153.8\" font-family=\"Times,serif\" font-size=\"14.00\">grad 0.0000</text>\n</g>\n<!-- 140131437144448&#45;&gt;140131436397088* -->\n<g id=\"edge19\" class=\"edge\">\n<title>140131437144448&#45;&gt;140131436397088*</title>\n<path fill=\"none\" stroke=\"black\" d=\"M197.91,-157.5C207.65,-157.5 217.05,-157.5 225.52,-157.5\"/>\n<polygon fill=\"black\" stroke=\"black\" points=\"225.7,-161 235.7,-157.5 225.7,-154 225.7,-161\"/>\n</g>\n<!-- 140131436397088 -->\n<g id=\"node12\" class=\"node\">\n<title>140131436397088</title>\n<polygon fill=\"none\" stroke=\"black\" points=\"328.5,-139.5 328.5,-175.5 543.5,-175.5 543.5,-139.5 328.5,-139.5\"/>\n<text text-anchor=\"middle\" x=\"355\" y=\"-153.8\" font-family=\"Times,serif\" font-size=\"14.00\">x2*w2</text>\n<polyline fill=\"none\" stroke=\"black\" points=\"381.5,-139.5 381.5,-175.5 \"/>\n<text text-anchor=\"middle\" x=\"421.5\" y=\"-153.8\" font-family=\"Times,serif\" font-size=\"14.00\">data 0.0000</text>\n<polyline fill=\"none\" stroke=\"black\" points=\"461.5,-139.5 461.5,-175.5 \"/>\n<text text-anchor=\"middle\" x=\"502.5\" y=\"-153.8\" font-family=\"Times,serif\" font-size=\"14.00\">grad 0.5000</text>\n</g>\n<!-- 140131436397088&#45;&gt;140131436397280+ -->\n<g id=\"edge18\" class=\"edge\">\n<title>140131436397088&#45;&gt;140131436397280+</title>\n<path fill=\"none\" stroke=\"black\" d=\"M543.84,-140.01C554.01,-138.34 563.76,-136.74 572.44,-135.32\"/>\n<polygon fill=\"black\" stroke=\"black\" points=\"573.17,-138.75 582.47,-133.68 572.04,-131.84 573.17,-138.75\"/>\n</g>\n<!-- 140131436397088*&#45;&gt;140131436397088 -->\n<g id=\"edge4\" class=\"edge\">\n<title>140131436397088*&#45;&gt;140131436397088</title>\n<path fill=\"none\" stroke=\"black\" d=\"M290.34,-157.5C298.51,-157.5 308.08,-157.5 318.36,-157.5\"/>\n<polygon fill=\"black\" stroke=\"black\" points=\"318.39,-161 328.39,-157.5 318.39,-154 318.39,-161\"/>\n</g>\n<!-- 140131436397280 -->\n<g id=\"node14\" class=\"node\">\n<title>140131436397280</title>\n<polygon fill=\"none\" stroke=\"black\" points=\"672,-111.5 672,-147.5 916,-147.5 916,-111.5 672,-111.5\"/>\n<text text-anchor=\"middle\" x=\"710.5\" y=\"-125.8\" font-family=\"Times,serif\" font-size=\"14.00\">x1w1x2w2</text>\n<polyline fill=\"none\" stroke=\"black\" points=\"749,-111.5 749,-147.5 \"/>\n<text text-anchor=\"middle\" x=\"791.5\" y=\"-125.8\" font-family=\"Times,serif\" font-size=\"14.00\">data &#45;6.0000</text>\n<polyline fill=\"none\" stroke=\"black\" points=\"834,-111.5 834,-147.5 \"/>\n<text text-anchor=\"middle\" x=\"875\" y=\"-125.8\" font-family=\"Times,serif\" font-size=\"14.00\">grad 0.5000</text>\n</g>\n<!-- 140131436397280&#45;&gt;140131436397472+ -->\n<g id=\"edge29\" class=\"edge\">\n<title>140131436397280&#45;&gt;140131436397472+</title>\n<path fill=\"none\" stroke=\"black\" d=\"M912.71,-111.49C923.38,-109.86 933.53,-108.3 942.51,-106.93\"/>\n<polygon fill=\"black\" stroke=\"black\" points=\"943.13,-110.38 952.48,-105.4 942.07,-103.46 943.13,-110.38\"/>\n</g>\n<!-- 140131436397280+&#45;&gt;140131436397280 -->\n<g id=\"edge5\" class=\"edge\">\n<title>140131436397280+&#45;&gt;140131436397280</title>\n<path fill=\"none\" stroke=\"black\" d=\"M636.22,-129.5C643.7,-129.5 652.4,-129.5 661.79,-129.5\"/>\n<polygon fill=\"black\" stroke=\"black\" points=\"661.8,-133 671.8,-129.5 661.8,-126 661.8,-133\"/>\n</g>\n<!-- 140131436397472 -->\n<g id=\"node16\" class=\"node\">\n<title>140131436397472</title>\n<polygon fill=\"none\" stroke=\"black\" points=\"1042,-83.5 1042,-119.5 1230,-119.5 1230,-83.5 1042,-83.5\"/>\n<text text-anchor=\"middle\" x=\"1055\" y=\"-97.8\" font-family=\"Times,serif\" font-size=\"14.00\">N</text>\n<polyline fill=\"none\" stroke=\"black\" points=\"1068,-83.5 1068,-119.5 \"/>\n<text text-anchor=\"middle\" x=\"1108\" y=\"-97.8\" font-family=\"Times,serif\" font-size=\"14.00\">data 0.8814</text>\n<polyline fill=\"none\" stroke=\"black\" points=\"1148,-83.5 1148,-119.5 \"/>\n<text text-anchor=\"middle\" x=\"1189\" y=\"-97.8\" font-family=\"Times,serif\" font-size=\"14.00\">grad 0.5000</text>\n</g>\n<!-- 140131436397664* -->\n<g id=\"node20\" class=\"node\">\n<title>140131436397664*</title>\n<ellipse fill=\"none\" stroke=\"black\" cx=\"1293\" cy=\"-73.5\" rx=\"27\" ry=\"18\"/>\n<text text-anchor=\"middle\" x=\"1293\" y=\"-69.8\" font-family=\"Times,serif\" font-size=\"14.00\">*</text>\n</g>\n<!-- 140131436397472&#45;&gt;140131436397664* -->\n<g id=\"edge26\" class=\"edge\">\n<title>140131436397472&#45;&gt;140131436397664*</title>\n<path fill=\"none\" stroke=\"black\" d=\"M1230.29,-84.65C1239.57,-82.97 1248.52,-81.35 1256.61,-79.89\"/>\n<polygon fill=\"black\" stroke=\"black\" points=\"1257.46,-83.3 1266.68,-78.07 1256.21,-76.41 1257.46,-83.3\"/>\n</g>\n<!-- 140131436397472+&#45;&gt;140131436397472 -->\n<g id=\"edge6\" class=\"edge\">\n<title>140131436397472+&#45;&gt;140131436397472</title>\n<path fill=\"none\" stroke=\"black\" d=\"M1006.29,-101.5C1013.78,-101.5 1022.42,-101.5 1031.6,-101.5\"/>\n<polygon fill=\"black\" stroke=\"black\" points=\"1031.76,-105 1041.76,-101.5 1031.76,-98 1031.76,-105\"/>\n</g>\n<!-- 140131436397616 -->\n<g id=\"node18\" class=\"node\">\n<title>140131436397616</title>\n<polygon fill=\"none\" stroke=\"black\" points=\"1045,-28.5 1045,-64.5 1227,-64.5 1227,-28.5 1045,-28.5\"/>\n<text text-anchor=\"middle\" x=\"1055\" y=\"-42.8\" font-family=\"Times,serif\" font-size=\"14.00\"> </text>\n<polyline fill=\"none\" stroke=\"black\" points=\"1065,-28.5 1065,-64.5 \"/>\n<text text-anchor=\"middle\" x=\"1105\" y=\"-42.8\" font-family=\"Times,serif\" font-size=\"14.00\">data 2.0000</text>\n<polyline fill=\"none\" stroke=\"black\" points=\"1145,-28.5 1145,-64.5 \"/>\n<text text-anchor=\"middle\" x=\"1186\" y=\"-42.8\" font-family=\"Times,serif\" font-size=\"14.00\">grad 0.2203</text>\n</g>\n<!-- 140131436397616&#45;&gt;140131436397664* -->\n<g id=\"edge21\" class=\"edge\">\n<title>140131436397616&#45;&gt;140131436397664*</title>\n<path fill=\"none\" stroke=\"black\" d=\"M1227.16,-62.21C1237.6,-64.02 1247.72,-65.79 1256.74,-67.36\"/>\n<polygon fill=\"black\" stroke=\"black\" points=\"1256.33,-70.84 1266.78,-69.11 1257.53,-63.94 1256.33,-70.84\"/>\n</g>\n<!-- 140131436397664 -->\n<g id=\"node19\" class=\"node\">\n<title>140131436397664</title>\n<polygon fill=\"none\" stroke=\"black\" points=\"1358.5,-55.5 1358.5,-91.5 1540.5,-91.5 1540.5,-55.5 1358.5,-55.5\"/>\n<text text-anchor=\"middle\" x=\"1368.5\" y=\"-69.8\" font-family=\"Times,serif\" font-size=\"14.00\"> </text>\n<polyline fill=\"none\" stroke=\"black\" points=\"1378.5,-55.5 1378.5,-91.5 \"/>\n<text text-anchor=\"middle\" x=\"1418.5\" y=\"-69.8\" font-family=\"Times,serif\" font-size=\"14.00\">data 1.7627</text>\n<polyline fill=\"none\" stroke=\"black\" points=\"1458.5,-55.5 1458.5,-91.5 \"/>\n<text text-anchor=\"middle\" x=\"1499.5\" y=\"-69.8\" font-family=\"Times,serif\" font-size=\"14.00\">grad 0.2500</text>\n</g>\n<!-- 140131436397808exp -->\n<g id=\"node22\" class=\"node\">\n<title>140131436397808exp</title>\n<ellipse fill=\"none\" stroke=\"black\" cx=\"1606\" cy=\"-73.5\" rx=\"27\" ry=\"18\"/>\n<text text-anchor=\"middle\" x=\"1606\" y=\"-69.8\" font-family=\"Times,serif\" font-size=\"14.00\">exp</text>\n</g>\n<!-- 140131436397664&#45;&gt;140131436397808exp -->\n<g id=\"edge15\" class=\"edge\">\n<title>140131436397664&#45;&gt;140131436397808exp</title>\n<path fill=\"none\" stroke=\"black\" d=\"M1540.82,-73.5C1550.57,-73.5 1560.04,-73.5 1568.57,-73.5\"/>\n<polygon fill=\"black\" stroke=\"black\" points=\"1568.83,-77 1578.83,-73.5 1568.83,-70 1568.83,-77\"/>\n</g>\n<!-- 140131436397664*&#45;&gt;140131436397664 -->\n<g id=\"edge7\" class=\"edge\">\n<title>140131436397664*&#45;&gt;140131436397664</title>\n<path fill=\"none\" stroke=\"black\" d=\"M1320.21,-73.5C1328.34,-73.5 1337.85,-73.5 1347.94,-73.5\"/>\n<polygon fill=\"black\" stroke=\"black\" points=\"1348.19,-77 1358.19,-73.5 1348.19,-70 1348.19,-77\"/>\n</g>\n<!-- 140131436397808 -->\n<g id=\"node21\" class=\"node\">\n<title>140131436397808</title>\n<polygon fill=\"none\" stroke=\"black\" points=\"1669,-55.5 1669,-91.5 1867,-91.5 1867,-55.5 1669,-55.5\"/>\n<text text-anchor=\"middle\" x=\"1687\" y=\"-69.8\" font-family=\"Times,serif\" font-size=\"14.00\">e2n</text>\n<polyline fill=\"none\" stroke=\"black\" points=\"1705,-55.5 1705,-91.5 \"/>\n<text text-anchor=\"middle\" x=\"1745\" y=\"-69.8\" font-family=\"Times,serif\" font-size=\"14.00\">data 5.8284</text>\n<polyline fill=\"none\" stroke=\"black\" points=\"1785,-55.5 1785,-91.5 \"/>\n<text text-anchor=\"middle\" x=\"1826\" y=\"-69.8\" font-family=\"Times,serif\" font-size=\"14.00\">grad 0.0429</text>\n</g>\n<!-- 140131436398336+ -->\n<g id=\"node28\" class=\"node\">\n<title>140131436398336+</title>\n<ellipse fill=\"none\" stroke=\"black\" cx=\"1930\" cy=\"-100.5\" rx=\"27\" ry=\"18\"/>\n<text text-anchor=\"middle\" x=\"1930\" y=\"-96.8\" font-family=\"Times,serif\" font-size=\"14.00\">+</text>\n</g>\n<!-- 140131436397808&#45;&gt;140131436398336+ -->\n<g id=\"edge14\" class=\"edge\">\n<title>140131436397808&#45;&gt;140131436398336+</title>\n<path fill=\"none\" stroke=\"black\" d=\"M1867.14,-90.06C1876.5,-91.64 1885.5,-93.16 1893.61,-94.53\"/>\n<polygon fill=\"black\" stroke=\"black\" points=\"1893.26,-98.02 1903.7,-96.23 1894.42,-91.12 1893.26,-98.02\"/>\n</g>\n<!-- 140131436398576+ -->\n<g id=\"node31\" class=\"node\">\n<title>140131436398576+</title>\n<ellipse fill=\"none\" stroke=\"black\" cx=\"1930\" cy=\"-45.5\" rx=\"27\" ry=\"18\"/>\n<text text-anchor=\"middle\" x=\"1930\" y=\"-41.8\" font-family=\"Times,serif\" font-size=\"14.00\">+</text>\n</g>\n<!-- 140131436397808&#45;&gt;140131436398576+ -->\n<g id=\"edge17\" class=\"edge\">\n<title>140131436397808&#45;&gt;140131436398576+</title>\n<path fill=\"none\" stroke=\"black\" d=\"M1867.14,-56.33C1876.5,-54.69 1885.5,-53.11 1893.61,-51.69\"/>\n<polygon fill=\"black\" stroke=\"black\" points=\"1894.46,-55.1 1903.7,-49.93 1893.25,-48.2 1894.46,-55.1\"/>\n</g>\n<!-- 140131436397808exp&#45;&gt;140131436397808 -->\n<g id=\"edge8\" class=\"edge\">\n<title>140131436397808exp&#45;&gt;140131436397808</title>\n<path fill=\"none\" stroke=\"black\" d=\"M1633.06,-73.5C1640.54,-73.5 1649.2,-73.5 1658.44,-73.5\"/>\n<polygon fill=\"black\" stroke=\"black\" points=\"1658.67,-77 1668.67,-73.5 1658.67,-70 1658.67,-77\"/>\n</g>\n<!-- 140131436397856 -->\n<g id=\"node23\" class=\"node\">\n<title>140131436397856</title>\n<polygon fill=\"none\" stroke=\"black\" points=\"1356.5,-110.5 1356.5,-146.5 1542.5,-146.5 1542.5,-110.5 1356.5,-110.5\"/>\n<text text-anchor=\"middle\" x=\"1366.5\" y=\"-124.8\" font-family=\"Times,serif\" font-size=\"14.00\"> </text>\n<polyline fill=\"none\" stroke=\"black\" points=\"1376.5,-110.5 1376.5,-146.5 \"/>\n<text text-anchor=\"middle\" x=\"1416.5\" y=\"-124.8\" font-family=\"Times,serif\" font-size=\"14.00\">data 1.0000</text>\n<polyline fill=\"none\" stroke=\"black\" points=\"1456.5,-110.5 1456.5,-146.5 \"/>\n<text text-anchor=\"middle\" x=\"1499.5\" y=\"-124.8\" font-family=\"Times,serif\" font-size=\"14.00\">grad &#45;0.1464</text>\n</g>\n<!-- 140131436398144* -->\n<g id=\"node26\" class=\"node\">\n<title>140131436398144*</title>\n<ellipse fill=\"none\" stroke=\"black\" cx=\"1606\" cy=\"-128.5\" rx=\"27\" ry=\"18\"/>\n<text text-anchor=\"middle\" x=\"1606\" y=\"-124.8\" font-family=\"Times,serif\" font-size=\"14.00\">*</text>\n</g>\n<!-- 140131436397856&#45;&gt;140131436398144* -->\n<g id=\"edge28\" class=\"edge\">\n<title>140131436397856&#45;&gt;140131436398144*</title>\n<path fill=\"none\" stroke=\"black\" d=\"M1542.6,-128.5C1551.77,-128.5 1560.65,-128.5 1568.69,-128.5\"/>\n<polygon fill=\"black\" stroke=\"black\" points=\"1568.74,-132 1578.74,-128.5 1568.74,-125 1568.74,-132\"/>\n</g>\n<!-- 140131436398096 -->\n<g id=\"node24\" class=\"node\">\n<title>140131436398096</title>\n<polygon fill=\"none\" stroke=\"black\" points=\"1356,-165.5 1356,-201.5 1543,-201.5 1543,-165.5 1356,-165.5\"/>\n<text text-anchor=\"middle\" x=\"1366\" y=\"-179.8\" font-family=\"Times,serif\" font-size=\"14.00\"> </text>\n<polyline fill=\"none\" stroke=\"black\" points=\"1376,-165.5 1376,-201.5 \"/>\n<text text-anchor=\"middle\" x=\"1418.5\" y=\"-179.8\" font-family=\"Times,serif\" font-size=\"14.00\">data &#45;1.0000</text>\n<polyline fill=\"none\" stroke=\"black\" points=\"1461,-165.5 1461,-201.5 \"/>\n<text text-anchor=\"middle\" x=\"1502\" y=\"-179.8\" font-family=\"Times,serif\" font-size=\"14.00\">grad 0.1464</text>\n</g>\n<!-- 140131436398096&#45;&gt;140131436398144* -->\n<g id=\"edge31\" class=\"edge\">\n<title>140131436398096&#45;&gt;140131436398144*</title>\n<path fill=\"none\" stroke=\"black\" d=\"M1516.56,-165.45C1525.51,-162.64 1534.53,-159.63 1543,-156.5 1553.49,-152.62 1564.71,-147.78 1574.68,-143.22\"/>\n<polygon fill=\"black\" stroke=\"black\" points=\"1576.2,-146.37 1583.79,-138.97 1573.25,-140.02 1576.2,-146.37\"/>\n</g>\n<!-- 140131436398144 -->\n<g id=\"node25\" class=\"node\">\n<title>140131436398144</title>\n<polygon fill=\"none\" stroke=\"black\" points=\"1674.5,-110.5 1674.5,-146.5 1861.5,-146.5 1861.5,-110.5 1674.5,-110.5\"/>\n<text text-anchor=\"middle\" x=\"1684.5\" y=\"-124.8\" font-family=\"Times,serif\" font-size=\"14.00\"> </text>\n<polyline fill=\"none\" stroke=\"black\" points=\"1694.5,-110.5 1694.5,-146.5 \"/>\n<text text-anchor=\"middle\" x=\"1737\" y=\"-124.8\" font-family=\"Times,serif\" font-size=\"14.00\">data &#45;1.0000</text>\n<polyline fill=\"none\" stroke=\"black\" points=\"1779.5,-110.5 1779.5,-146.5 \"/>\n<text text-anchor=\"middle\" x=\"1820.5\" y=\"-124.8\" font-family=\"Times,serif\" font-size=\"14.00\">grad 0.1464</text>\n</g>\n<!-- 140131436398144&#45;&gt;140131436398336+ -->\n<g id=\"edge22\" class=\"edge\">\n<title>140131436398144&#45;&gt;140131436398336+</title>\n<path fill=\"none\" stroke=\"black\" d=\"M1861.61,-112.29C1872.98,-110.3 1884,-108.38 1893.72,-106.67\"/>\n<polygon fill=\"black\" stroke=\"black\" points=\"1894.47,-110.1 1903.71,-104.93 1893.26,-103.2 1894.47,-110.1\"/>\n</g>\n<!-- 140131436398144*&#45;&gt;140131436398144 -->\n<g id=\"edge9\" class=\"edge\">\n<title>140131436398144*&#45;&gt;140131436398144</title>\n<path fill=\"none\" stroke=\"black\" d=\"M1633.06,-128.5C1642.1,-128.5 1652.86,-128.5 1664.3,-128.5\"/>\n<polygon fill=\"black\" stroke=\"black\" points=\"1664.5,-132 1674.5,-128.5 1664.5,-125 1664.5,-132\"/>\n</g>\n<!-- 140131436398336 -->\n<g id=\"node27\" class=\"node\">\n<title>140131436398336</title>\n<polygon fill=\"none\" stroke=\"black\" points=\"2245,-82.5 2245,-118.5 2456,-118.5 2456,-82.5 2245,-82.5\"/>\n<text text-anchor=\"middle\" x=\"2269.5\" y=\"-96.8\" font-family=\"Times,serif\" font-size=\"14.00\">e2n_a</text>\n<polyline fill=\"none\" stroke=\"black\" points=\"2294,-82.5 2294,-118.5 \"/>\n<text text-anchor=\"middle\" x=\"2334\" y=\"-96.8\" font-family=\"Times,serif\" font-size=\"14.00\">data 4.8284</text>\n<polyline fill=\"none\" stroke=\"black\" points=\"2374,-82.5 2374,-118.5 \"/>\n<text text-anchor=\"middle\" x=\"2415\" y=\"-96.8\" font-family=\"Times,serif\" font-size=\"14.00\">grad 0.1464</text>\n</g>\n<!-- 140131436398336&#45;&gt;140131436398960* -->\n<g id=\"edge24\" class=\"edge\">\n<title>140131436398336&#45;&gt;140131436398960*</title>\n<path fill=\"none\" stroke=\"black\" d=\"M2456.09,-93.29C2519.21,-88.87 2601.24,-83.03 2674,-77.5 2682.42,-76.86 2691.48,-76.14 2700.01,-75.46\"/>\n<polygon fill=\"black\" stroke=\"black\" points=\"2700.38,-78.94 2710.06,-74.65 2699.81,-71.96 2700.38,-78.94\"/>\n</g>\n<!-- 140131436398336+&#45;&gt;140131436398336 -->\n<g id=\"edge10\" class=\"edge\">\n<title>140131436398336+&#45;&gt;140131436398336</title>\n<path fill=\"none\" stroke=\"black\" d=\"M1957.18,-100.5C2011.57,-100.5 2139.62,-100.5 2234.73,-100.5\"/>\n<polygon fill=\"black\" stroke=\"black\" points=\"2234.99,-104 2244.99,-100.5 2234.99,-97 2234.99,-104\"/>\n</g>\n<!-- 140131436398528 -->\n<g id=\"node29\" class=\"node\">\n<title>140131436398528</title>\n<polygon fill=\"none\" stroke=\"black\" points=\"1675,-0.5 1675,-36.5 1861,-36.5 1861,-0.5 1675,-0.5\"/>\n<text text-anchor=\"middle\" x=\"1685\" y=\"-14.8\" font-family=\"Times,serif\" font-size=\"14.00\"> </text>\n<polyline fill=\"none\" stroke=\"black\" points=\"1695,-0.5 1695,-36.5 \"/>\n<text text-anchor=\"middle\" x=\"1735\" y=\"-14.8\" font-family=\"Times,serif\" font-size=\"14.00\">data 1.0000</text>\n<polyline fill=\"none\" stroke=\"black\" points=\"1775,-0.5 1775,-36.5 \"/>\n<text text-anchor=\"middle\" x=\"1818\" y=\"-14.8\" font-family=\"Times,serif\" font-size=\"14.00\">grad &#45;0.1036</text>\n</g>\n<!-- 140131436398528&#45;&gt;140131436398576+ -->\n<g id=\"edge12\" class=\"edge\">\n<title>140131436398528&#45;&gt;140131436398576+</title>\n<path fill=\"none\" stroke=\"black\" d=\"M1861.15,-34.05C1872.57,-35.98 1883.66,-37.85 1893.45,-39.5\"/>\n<polygon fill=\"black\" stroke=\"black\" points=\"1893.07,-42.99 1903.51,-41.2 1894.24,-36.08 1893.07,-42.99\"/>\n</g>\n<!-- 140131436398576 -->\n<g id=\"node30\" class=\"node\">\n<title>140131436398576</title>\n<polygon fill=\"none\" stroke=\"black\" points=\"1993,-27.5 1993,-63.5 2209,-63.5 2209,-27.5 1993,-27.5\"/>\n<text text-anchor=\"middle\" x=\"2018\" y=\"-41.8\" font-family=\"Times,serif\" font-size=\"14.00\">e2n_b</text>\n<polyline fill=\"none\" stroke=\"black\" points=\"2043,-27.5 2043,-63.5 \"/>\n<text text-anchor=\"middle\" x=\"2083\" y=\"-41.8\" font-family=\"Times,serif\" font-size=\"14.00\">data 6.8284</text>\n<polyline fill=\"none\" stroke=\"black\" points=\"2123,-27.5 2123,-63.5 \"/>\n<text text-anchor=\"middle\" x=\"2166\" y=\"-41.8\" font-family=\"Times,serif\" font-size=\"14.00\">grad &#45;0.1036</text>\n</g>\n<!-- 140131436398576&#45;&gt;140131436398768** -->\n<g id=\"edge25\" class=\"edge\">\n<title>140131436398576&#45;&gt;140131436398768**</title>\n<path fill=\"none\" stroke=\"black\" d=\"M2209.12,-45.5C2246.37,-45.5 2285.67,-45.5 2313.18,-45.5\"/>\n<polygon fill=\"black\" stroke=\"black\" points=\"2313.49,-49 2323.49,-45.5 2313.49,-42 2313.49,-49\"/>\n</g>\n<!-- 140131436398576+&#45;&gt;140131436398576 -->\n<g id=\"edge11\" class=\"edge\">\n<title>140131436398576+&#45;&gt;140131436398576</title>\n<path fill=\"none\" stroke=\"black\" d=\"M1957.04,-45.5C1964.59,-45.5 1973.38,-45.5 1982.8,-45.5\"/>\n<polygon fill=\"black\" stroke=\"black\" points=\"1982.83,-49 1992.83,-45.5 1982.83,-42 1982.83,-49\"/>\n</g>\n</g>\n</svg>\n",
            "text/plain": [
              "<graphviz.graphs.Digraph at 0x7f72e47d03d0>"
            ]
          },
          "metadata": {},
          "execution_count": 7
        }
      ]
    },
    {
      "cell_type": "code",
      "source": [
        "print(o)\n",
        "assert(x1.grad == -1.5)\n",
        "assert(w1.grad == 1.0)\n",
        "assert(x2.grad == 0.5)\n",
        "assert(w2.grad == 0)\n",
        "assert(math.floor(o.data * 10000) == 7071) # forward pass"
      ],
      "metadata": {
        "colab": {
          "base_uri": "https://localhost:8080/"
        },
        "id": "iYlcLtcU2oTg",
        "outputId": "9c29989d-0e80-4899-c522-cfc03d192ccb"
      },
      "execution_count": 8,
      "outputs": [
        {
          "output_type": "stream",
          "name": "stdout",
          "text": [
            "Value(o => 0.70711)\n"
          ]
        }
      ]
    },
    {
      "cell_type": "code",
      "source": [
        "import random\n",
        "class Neuron:\n",
        "    def __init__(self, nin):\n",
        "        self.w = [Value(random.uniform(-1, 1)) for _ in range(nin)] \n",
        "        self.b = Value(random.uniform(-1,1))\n",
        "\n",
        "    def __call__(self, xin):\n",
        "        assert(len(xin) == len(self.w))\n",
        "        act = sum(x * w for x,w in zip(xin, self.w)) # + self.b\n",
        "        out = act.tanh()\n",
        "        return out\n",
        "\n",
        "    def params(self): # return a list of all parameters\n",
        "        return self.w + [self.b]\n",
        "        \n",
        "class Layer:\n",
        "    def __init__(self,nin,nout): # nout = number of nodes in that layer\n",
        "        self.neurons = [Neuron(nin) for _ in range(nout)]\n",
        "\n",
        "    def __call__(self, xin):\n",
        "        out = [n(xin) for n in self.neurons]\n",
        "        return out[0] if len(out) ==1 else out\n",
        "\n",
        "    def params(self):\n",
        "        params = []\n",
        "        [params.extend(n.params()) for n in self.neurons]\n",
        "        return params\n",
        "\n",
        "class MLP:\n",
        "    def __init__(self, l0, l):\n",
        "        s = [l0] + l\n",
        "        self.layers = [Layer(s[i],s[i+1]) for i in range(len(s)-1)] \n",
        "\n",
        "    def __call__(self, x0):\n",
        "        x = x0\n",
        "        for layer in self.layers:\n",
        "            x = layer(x)\n",
        "        return x\n",
        "\n",
        "    def params(self):\n",
        "        params = []\n",
        "        [params.extend(layer.params()) for layer in self.layers]\n",
        "        return params"
      ],
      "metadata": {
        "id": "73SSjQhp2Xpl"
      },
      "execution_count": 9,
      "outputs": []
    },
    {
      "cell_type": "code",
      "source": [
        "\"\"\"y = Neuron(3)\n",
        "h = y([3,-1,2.4])\n",
        "y.params()\n",
        "\n",
        "layer = Layer(3, 4)\n",
        "l = layer([4,0,1])\n",
        "layer.params()\"\"\"\n",
        "\n",
        "net = MLP(3, [4,4,1])\n",
        "xs = [[2., 3., -1.],\n",
        "    [3., -1., 0.5],\n",
        "    [0.5, 1., 1.],\n",
        "    [1., 1., -1.]]\n",
        "\n",
        "ys = [1.0, -1.0, -1.0, 1.0]  # desired target, binary classification"
      ],
      "metadata": {
        "id": "4XKHNv215FkR"
      },
      "execution_count": 10,
      "outputs": []
    },
    {
      "cell_type": "code",
      "source": [
        "allparams = net.params()\n",
        "print(type(allparams), len(allparams))\n",
        "prev_loss = 0\n",
        "loss_dir = \"None\""
      ],
      "metadata": {
        "colab": {
          "base_uri": "https://localhost:8080/"
        },
        "id": "V_HCgV6NjXAN",
        "outputId": "4d22e34b-ad74-4085-8a9e-2f70a094d998"
      },
      "execution_count": 11,
      "outputs": [
        {
          "output_type": "stream",
          "name": "stdout",
          "text": [
            "<class 'list'> 41\n"
          ]
        }
      ]
    },
    {
      "cell_type": "code",
      "source": [
        "iteration = 0\n",
        "loss_floor = 1e-5\n",
        "loss = Value(loss_floor + 100)\n",
        "learning_rate = 0.4\n",
        "x_iter = []\n",
        "y_iter = []\n",
        "\n",
        "while (loss.data > loss_floor):\n",
        "    iteration += 1\n",
        "    ypred = [net(x) for x in xs]\n",
        "    loss = sum((yest-y)**2 for yest, y in zip(ypred,ys))\n",
        "    if loss.data < prev_loss:\n",
        "        loss_dir = \"Decrease\"\n",
        "    else:\n",
        "        loss_dir = \"Increase\"\n",
        "    if iteration % 300 == 0:\n",
        "        print(f\"{iteration}: Loss = {loss.data}, Loss direction = {loss_dir}\")\n",
        "        x_iter.append(iteration)\n",
        "        y_iter.append(loss.data)\n",
        "    prev_loss = loss.data\n",
        "    for p in allparams:\n",
        "        p.grad = 0.0\n",
        "    loss.backward()\n",
        "    for p in allparams:\n",
        "        p -= (learning_rate * p.grad)\n",
        "\n",
        "print(f\"Final loss = {loss.data}\")\n",
        "print(ypred)      "
      ],
      "metadata": {
        "colab": {
          "base_uri": "https://localhost:8080/"
        },
        "id": "xvWFghlIATEv",
        "outputId": "75fb6f9d-db21-4722-9ac6-aa6f944cdb83"
      },
      "execution_count": 12,
      "outputs": [
        {
          "output_type": "stream",
          "name": "stdout",
          "text": [
            "300: Loss = 0.00024072299452704415, Loss direction = Decrease\n",
            "600: Loss = 0.0001175509191265105, Loss direction = Decrease\n",
            "900: Loss = 7.68618297019127e-05, Loss direction = Decrease\n",
            "1200: Loss = 5.678347588991189e-05, Loss direction = Decrease\n",
            "1500: Loss = 4.487812842833089e-05, Loss direction = Decrease\n",
            "1800: Loss = 3.702244737777056e-05, Loss direction = Decrease\n",
            "2100: Loss = 3.146146820230598e-05, Loss direction = Decrease\n",
            "2400: Loss = 2.7323733437613247e-05, Loss direction = Decrease\n",
            "2700: Loss = 2.412824524406368e-05, Loss direction = Decrease\n",
            "3000: Loss = 2.158815354415892e-05, Loss direction = Decrease\n",
            "3300: Loss = 1.9521945701879598e-05, Loss direction = Decrease\n",
            "3600: Loss = 1.7809247668940473e-05, Loss direction = Decrease\n",
            "3900: Loss = 1.636713111966332e-05, Loss direction = Decrease\n",
            "4200: Loss = 1.5136632579396012e-05, Loss direction = Decrease\n",
            "4500: Loss = 1.4074697858775388e-05, Loss direction = Decrease\n",
            "4800: Loss = 1.314916685042225e-05, Loss direction = Decrease\n",
            "5100: Loss = 1.2335540379349428e-05, Loss direction = Decrease\n",
            "5400: Loss = 1.1614832354037768e-05, Loss direction = Decrease\n",
            "5700: Loss = 1.097210511931803e-05, Loss direction = Decrease\n",
            "6000: Loss = 1.0395447492060384e-05, Loss direction = Decrease\n",
            "Final loss = 9.998769395705956e-06\n",
            "[Value(0.99901), Value(-0.99768), Value(-0.99833), Value(0.99908)]\n"
          ]
        }
      ]
    },
    {
      "cell_type": "code",
      "source": [
        "# TODO : Get the code to run on GPU\n",
        "# TODO : Do a separate notebook no MatPlotlib\n",
        "# TODO : Do a separate notebook on Python basics\n"
      ],
      "metadata": {
        "id": "9hEwm9WFQSXY"
      },
      "execution_count": 13,
      "outputs": []
    },
    {
      "cell_type": "code",
      "source": [
        "plt.plot(x_iter,y_iter)"
      ],
      "metadata": {
        "colab": {
          "base_uri": "https://localhost:8080/",
          "height": 449
        },
        "id": "5gghXkgtOzrf",
        "outputId": "6429be6c-d716-4e6f-deb1-41eb8c1c1596"
      },
      "execution_count": 14,
      "outputs": [
        {
          "output_type": "execute_result",
          "data": {
            "text/plain": [
              "[<matplotlib.lines.Line2D at 0x7f72e43b3ca0>]"
            ]
          },
          "metadata": {},
          "execution_count": 14
        },
        {
          "output_type": "display_data",
          "data": {
            "text/plain": [
              "<Figure size 640x480 with 1 Axes>"
            ],
            "image/png": "[encoded data removed]"
          },
          "metadata": {}
        }
      ]
    }
  ]
}